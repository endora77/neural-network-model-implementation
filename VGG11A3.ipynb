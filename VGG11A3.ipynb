{
  "cells": [
    {
      "cell_type": "code",
      "execution_count": 18,
      "metadata": {
        "colab": {
          "base_uri": "https://localhost:8080/"
        },
        "id": "sfCbuIhzLw-V",
        "outputId": "753554c0-4c92-42d1-ec22-a04a8f85ab09"
      },
      "outputs": [
        {
          "name": "stdout",
          "output_type": "stream",
          "text": [
            "Looking in indexes: https://pypi.org/simple, https://us-python.pkg.dev/colab-wheels/public/simple/\n",
            "Requirement already satisfied: python-mnist in /usr/local/lib/python3.7/dist-packages (0.7)\n"
          ]
        }
      ],
      "source": [
        "!pip install python-mnist"
      ]
    },
    {
      "cell_type": "code",
      "execution_count": 19,
      "metadata": {
        "id": "GW4uo9ZsL38_"
      },
      "outputs": [],
      "source": [
        "\n",
        "from mnist import MNIST\n",
        "import matplotlib.pyplot as plt\n",
        "import numpy as np\n",
        "import torch\n",
        "import torch.nn as nn\n",
        "from torch.utils.data import Dataset, DataLoader\n",
        "\n",
        "# Device configuration\n",
        "device = torch.device('cuda' if torch.cuda.is_available() else 'cpu')"
      ]
    },
    {
      "cell_type": "code",
      "execution_count": 20,
      "metadata": {
        "id": "O15jpS6cGGXJ"
      },
      "outputs": [],
      "source": [
        "class VGG11(nn.Module):\n",
        "    def __init__(self):\n",
        "        super(VGG11, self).__init__()\n",
        "        # convolutional layers\n",
        "        self.layers2d = nn.Sequential(\n",
        "            nn.Conv2d(1, 64, kernel_size=3, stride=1, padding=1),\n",
        "            nn.BatchNorm2d(64),\n",
        "            nn.ReLU(),\n",
        "            nn.MaxPool2d(kernel_size=2, stride=2),\n",
        "\n",
        "\n",
        "            nn.Conv2d(64, 128, kernel_size=3, stride=1, padding=1),\n",
        "            nn.BatchNorm2d(128),\n",
        "            nn.ReLU(),\n",
        "            nn.MaxPool2d(kernel_size=2, stride=2),\n",
        "\n",
        "\n",
        "            nn.Conv2d(128, 256, kernel_size=3, stride=1, padding=1),\n",
        "            nn.BatchNorm2d(256),\n",
        "            nn.ReLU(),\n",
        "\n",
        "\n",
        "            nn.Conv2d(256, 256, kernel_size=3, stride=1, padding=1),\n",
        "            nn.BatchNorm2d(256),\n",
        "            nn.ReLU(),\n",
        "            nn.MaxPool2d(kernel_size=2, stride=2),\n",
        "\n",
        "\n",
        "            nn.Conv2d(256, 512, kernel_size=3, stride=1, padding=1),\n",
        "            nn.BatchNorm2d(512),\n",
        "            nn.ReLU(),\n",
        "\n",
        "\n",
        "            nn.Conv2d(512, 512, kernel_size=3, stride=1, padding=1),\n",
        "            nn.BatchNorm2d(512),\n",
        "            nn.ReLU(),\n",
        "            nn.MaxPool2d(kernel_size=2, stride=2),\n",
        "\n",
        "\n",
        "            nn.Conv2d(512, 512, kernel_size=3, stride=1, padding=1),\n",
        "            nn.BatchNorm2d(512),\n",
        "            nn.ReLU(),\n",
        "\n",
        "\n",
        "            nn.Conv2d(512, 512, kernel_size=3, padding=1),\n",
        "            nn.BatchNorm2d(512),\n",
        "            nn.ReLU(),\n",
        "            nn.MaxPool2d(kernel_size=2, stride=2)\n",
        "        )\n",
        "\n",
        "        self.layers1d = nn.Sequential(\n",
        "            nn.Linear(in_features=512, out_features=4096),\n",
        "            nn.ReLU(),\n",
        "            nn.Dropout(0.5),\n",
        "\n",
        "            nn.Linear(in_features=4096, out_features=4096),\n",
        "            nn.ReLU(),\n",
        "            nn.Dropout(0.5),\n",
        "\n",
        "            nn.Linear(in_features=4096, out_features=10)\n",
        "        )\n",
        "        \n",
        "    def forward(self, x):\n",
        "        x = self.layers2d(x)\n",
        "        x = x.view(x.size(0), -1)\n",
        "        x = self.layers1d(x)\n",
        "        return x"
      ]
    },
    {
      "cell_type": "code",
      "execution_count": 21,
      "metadata": {
        "id": "s6OZfNfg76uK"
      },
      "outputs": [],
      "source": [
        "import torchvision.datasets as datasets \n",
        "import torchvision.transforms as transforms\n",
        "\n",
        "composed = transforms.Compose([transforms.Pad(2),\n",
        "                               transforms.ToTensor()])\n",
        "\n",
        "train_dataset = datasets.MNIST(root=\"dataset/\", train=True, transform=composed, download=True)\n",
        "test_dataset = datasets.MNIST(root=\"dataset/\", train=False, transform=composed, download=True)\n"
      ]
    },
    {
      "cell_type": "code",
      "execution_count": 22,
      "metadata": {
        "id": "t9QZi1pxGJzJ"
      },
      "outputs": [],
      "source": [
        "model = VGG11().to(device)\n",
        "\n",
        "cross_entropy_criterion = nn.CrossEntropyLoss()\n",
        "num_epochs = 4\n",
        "learning_rate = 0.00001\n",
        "adam_optimizer = torch.optim.Adam(model.parameters(), lr=learning_rate)\n",
        "\n",
        "batch_size = 32\n",
        "\n",
        "train_loader = DataLoader(dataset=train_dataset, batch_size=batch_size, shuffle=True)\n",
        "test_loader = DataLoader(dataset=test_dataset, batch_size=batch_size, shuffle=True)\n",
        "\n",
        "n_total_steps = len(train_loader)\n",
        "\n",
        "def train_one_epoch(train_loader, model, optimizer=adam_optimizer, criterion=cross_entropy_criterion):\n",
        "  model.train()\n",
        "  for i, (images, labels) in enumerate(train_loader):\n",
        "    images = images.to(device)\n",
        "    labels = labels.to(device)\n",
        "\n",
        "    # Forward pass\n",
        "    outputs = model(images)\n",
        "    loss = criterion(outputs, labels)\n",
        "\n",
        "    # Backward and optimize\n",
        "    loss.backward()\n",
        "    optimizer.step()\n",
        "\n",
        "#Return loss, accuracy\n",
        "def check_result(loader, model, criterion=cross_entropy_criterion):\n",
        "  model.eval()\n",
        "\n",
        "  total_loss = 0\n",
        "  total_correct = 0\n",
        "  with torch.no_grad():\n",
        "    for i, (images, labels) in enumerate(loader):\n",
        "      images = images.to(device)\n",
        "      labels = labels.to(device)\n",
        "      # Forward pass\n",
        "      outputs = model(images)\n",
        "      loss = criterion(outputs, labels)\n",
        "\n",
        "      total_loss += loss.item()\n",
        "\n",
        "      # calculate the accuracy\n",
        "      # Get category with highest probability\n",
        "      _, preds = torch.max(outputs.data, 1)\n",
        "      # Compare if category is correct\n",
        "      total_correct += (preds == labels).sum().item()\n",
        "\n",
        "  model.train()\n",
        "  return (total_loss / len(loader)), (total_correct / len(loader.dataset))\n",
        "\n",
        "def train_model(num_epochs, train_loader, test_loader, model, optimizer):\n",
        "  all_train_loss = []\n",
        "  all_train_accuracy = []\n",
        "  all_test_loss = []\n",
        "  all_test_accuracy = []\n",
        "\n",
        "  for epoch in range(num_epochs):\n",
        "    train_one_epoch(train_loader, model, optimizer)\n",
        "    print(\"Epoch:\"+str(epoch))\n",
        "    train_loss, train_acc = check_result(train_loader, model)\n",
        "    test_loss, test_acc = check_result(test_loader, model)\n",
        "\n",
        "    all_train_loss.append(train_loss)\n",
        "    all_train_accuracy.append(train_acc)\n",
        "    all_test_loss.append(test_loss)\n",
        "    all_test_accuracy.append(test_acc)\n",
        "  return all_train_loss, all_train_accuracy, all_test_loss, all_test_accuracy\n"
      ]
    },
    {
      "cell_type": "code",
      "execution_count": 23,
      "metadata": {
        "colab": {
          "base_uri": "https://localhost:8080/"
        },
        "id": "sRHhW3pD1jAc",
        "outputId": "e292544e-336c-43bd-fcee-7a1ffd14a405"
      },
      "outputs": [
        {
          "name": "stdout",
          "output_type": "stream",
          "text": [
            "Epoch:0\n",
            "Epoch:1\n",
            "Epoch:2\n",
            "Epoch:3\n"
          ]
        }
      ],
      "source": [
        "all_train_loss, all_train_accuracy, all_test_loss, all_test_accuracy = train_model(num_epochs, train_loader, test_loader, model, adam_optimizer)"
      ]
    },
    {
      "cell_type": "code",
      "execution_count": 24,
      "metadata": {
        "colab": {
          "base_uri": "https://localhost:8080/",
          "height": 382
        },
        "id": "AajExCFKArnv",
        "outputId": "452addde-908a-410d-9c76-49c582b937b6"
      },
      "outputs": [
        {
          "data": {
            "text/plain": [
              "([<matplotlib.axis.XTick at 0x7f1b51bb2610>,\n",
              "  <matplotlib.axis.XTick at 0x7f1b51bb2750>,\n",
              "  <matplotlib.axis.XTick at 0x7f1b51bb27d0>,\n",
              "  <matplotlib.axis.XTick at 0x7f1b5197f8d0>],\n",
              " <a list of 4 Text major ticklabel objects>)"
            ]
          },
          "execution_count": 24,
          "metadata": {},
          "output_type": "execute_result"
        },
        {
          "data": {
            "image/png": "[encoded data removed]",
            "text/plain": [
              "<Figure size 432x288 with 1 Axes>"
            ]
          },
          "metadata": {
            "needs_background": "light"
          },
          "output_type": "display_data"
        }
      ],
      "source": [
        "x = [1,2,3,4]\n",
        "plt.plot(x, all_test_accuracy)\n",
        "plt.ylabel('test accuracy')\n",
        "plt.title('test accuracy plot')\n",
        "\n",
        "plt.xlabel('epoch #')\n",
        "plt.xticks(np.arange(min(x), max(x)+1, 1.0))"
      ]
    },
    {
      "cell_type": "code",
      "execution_count": 25,
      "metadata": {
        "colab": {
          "base_uri": "https://localhost:8080/",
          "height": 298
        },
        "id": "vlrWFqjwEYPp",
        "outputId": "a73c7264-9fa9-4213-8de7-1f83c6ca7024"
      },
      "outputs": [
        {
          "data": {
            "text/plain": [
              "Text(0.5, 1.0, 'Trainning accuracy plot')"
            ]
          },
          "execution_count": 25,
          "metadata": {},
          "output_type": "execute_result"
        },
        {
          "data": {
            "image/png": "[encoded data removed]",
            "text/plain": [
              "<Figure size 432x288 with 1 Axes>"
            ]
          },
          "metadata": {
            "needs_background": "light"
          },
          "output_type": "display_data"
        }
      ],
      "source": [
        "plt.plot(x, all_train_accuracy)\n",
        "plt.ylabel('trainning accuracy')\n",
        "plt.title('Trainning accuracy plot')"
      ]
    },
    {
      "cell_type": "code",
      "execution_count": 26,
      "metadata": {
        "colab": {
          "base_uri": "https://localhost:8080/",
          "height": 298
        },
        "id": "VUQgK-lpD_yI",
        "outputId": "6e8acb1f-4118-4749-c931-67bf7b9ab5f8"
      },
      "outputs": [
        {
          "data": {
            "text/plain": [
              "Text(0.5, 1.0, 'Test loss plot')"
            ]
          },
          "execution_count": 26,
          "metadata": {},
          "output_type": "execute_result"
        },
        {
          "data": {
            "image/png": "[encoded data removed]",
            "text/plain": [
              "<Figure size 432x288 with 1 Axes>"
            ]
          },
          "metadata": {
            "needs_background": "light"
          },
          "output_type": "display_data"
        }
      ],
      "source": [
        "plt.plot(x, all_test_loss)\n",
        "plt.ylabel('test loss')\n",
        "plt.title('Test loss plot')\n"
      ]
    },
    {
      "cell_type": "code",
      "execution_count": 27,
      "metadata": {
        "colab": {
          "base_uri": "https://localhost:8080/",
          "height": 298
        },
        "id": "ULjcDdpAD21-",
        "outputId": "e62988a3-6268-4f9f-e588-de268fec2010"
      },
      "outputs": [
        {
          "data": {
            "text/plain": [
              "Text(0.5, 1.0, 'Trainning loss plot')"
            ]
          },
          "execution_count": 27,
          "metadata": {},
          "output_type": "execute_result"
        },
        {
          "data": {
            "image/png": "[encoded data removed]",
            "text/plain": [
              "<Figure size 432x288 with 1 Axes>"
            ]
          },
          "metadata": {
            "needs_background": "light"
          },
          "output_type": "display_data"
        }
      ],
      "source": [
        "plt.plot(x, all_train_loss)\n",
        "plt.ylabel('trainning loss')\n",
        "plt.title('Trainning loss plot')"
      ]
    },
    {
      "cell_type": "code",
      "execution_count": 28,
      "metadata": {
        "colab": {
          "base_uri": "https://localhost:8080/"
        },
        "id": "pjm5HXwMGnya",
        "outputId": "961297b2-ff3c-4b9d-c541-e14bff0d2091"
      },
      "outputs": [
        {
          "name": "stdout",
          "output_type": "stream",
          "text": [
            "[0.09125114786898193, 0.04901277912949202, 0.031397301824273444, 0.027475620442776214]\n",
            "[0.9766, 0.98675, 0.9917833333333334, 0.99395]\n",
            "[0.07459424365871249, 0.04879284057779077, 0.037218808651463396, 0.03945371232129601]\n",
            "[0.9813, 0.9866, 0.9907, 0.9924]\n"
          ]
        }
      ],
      "source": [
        "print(all_train_loss)\n",
        "print(all_train_accuracy)\n",
        "print(all_test_loss)\n",
        "print(all_test_accuracy)"
      ]
    },
    {
      "cell_type": "code",
      "execution_count": 29,
      "metadata": {
        "id": "_LIJ4m491cL1"
      },
      "outputs": [],
      "source": [
        "def test_accuracy_transform(transform, model, batch_size=batch_size):\n",
        "  test_dataset = datasets.MNIST(root=\"dataset/\", train=False, transform=transform, download=False)\n",
        "  test_loader = DataLoader(dataset=test_dataset, batch_size=batch_size)\n",
        "  return check_result(test_loader, model)"
      ]
    },
    {
      "cell_type": "code",
      "execution_count": 30,
      "metadata": {
        "id": "pBKtn7Waalns"
      },
      "outputs": [],
      "source": [
        "horizontal_flip = transforms.Compose([transforms.Pad(2),\n",
        "                               transforms.RandomHorizontalFlip(p=1),\n",
        "                               transforms.ToTensor(),\n",
        "                               ])\n",
        "both_flip = transforms.Compose([transforms.Pad(2),\n",
        "                               transforms.RandomHorizontalFlip(p=1),\n",
        "                               transforms.RandomVerticalFlip(p=1),\n",
        "                               transforms.ToTensor(),\n",
        "                               ])\n",
        "noice001 = transforms.Compose([transforms.Pad(2),\n",
        "                               transforms.ToTensor(),\n",
        "                               transforms.Lambda(lambda x : x + 0.1*torch.randn_like(x)),\n",
        "                               ])\n",
        "noice01 = transforms.Compose([transforms.Pad(2),\n",
        "                               transforms.ToTensor(),\n",
        "                              transforms.Lambda(lambda x : x + np.sqrt(0.1)*torch.randn_like(x)),\n",
        "                               ])\n",
        "noice1 = transforms.Compose([transforms.Pad(2),\n",
        "                               transforms.ToTensor(),\n",
        "                             transforms.Lambda(lambda x : x + np.sqrt(1)*torch.randn_like(x)),\n",
        "                               ])"
      ]
    },
    {
      "cell_type": "code",
      "execution_count": 31,
      "metadata": {
        "colab": {
          "base_uri": "https://localhost:8080/"
        },
        "id": "h436uI-kvMFx",
        "outputId": "4ee5a490-fa38-4250-fcfa-f81b51351e37"
      },
      "outputs": [
        {
          "name": "stdout",
          "output_type": "stream",
          "text": [
            "Test accuracy for horizontal flip:0.4144\n",
            "Test accuracy for horizontal and vertical flip:0.4031\n",
            "Test accuracy for gaussian noise variance 0.0l:0.9807\n",
            "Test accuracy for gaussian noise variance 0.l:0.1442\n",
            "Test accuracy for gaussian noise variance l:0.0974\n"
          ]
        }
      ],
      "source": [
        "print(\"Test accuracy for horizontal flip:\"+str(test_accuracy_transform(horizontal_flip, model)[1]))\n",
        "print(\"Test accuracy for horizontal and vertical flip:\"+str(test_accuracy_transform(both_flip, model)[1]))\n",
        "print(\"Test accuracy for gaussian noise variance 0.0l:\"+str(test_accuracy_transform(noice001, model)[1]))\n",
        "print(\"Test accuracy for gaussian noise variance 0.l:\"+str(test_accuracy_transform(noice01, model)[1]))\n",
        "print(\"Test accuracy for gaussian noise variance l:\"+str(test_accuracy_transform(noice1, model)[1]))"
      ]
    },
    {
      "cell_type": "markdown",
      "metadata": {
        "id": "4O8Re3Jau5Se"
      },
      "source": [
        "The effect of the flip is that, the test accuracy decreased from 99% to only around 40% for flipped images."
      ]
    },
    {
      "cell_type": "markdown",
      "metadata": {
        "id": "1LSdfqcuvOwn"
      },
      "source": [
        "The effect of gaussian noise is that, the larger the gaussian noise is, the lower the test accuracy becomes."
      ]
    },
    {
      "cell_type": "code",
      "execution_count": 32,
      "metadata": {
        "colab": {
          "base_uri": "https://localhost:8080/"
        },
        "id": "711u0bSP4jev",
        "outputId": "0e944124-edd0-4e53-a6f4-246fec6d47bf"
      },
      "outputs": [
        {
          "name": "stdout",
          "output_type": "stream",
          "text": [
            "Epoch:0\n",
            "Epoch:1\n",
            "Epoch:2\n",
            "Epoch:3\n",
            "Test accuracy for horizontal flip:0.9188\n",
            "Test accuracy for horizontal and vertical flip:0.9195\n",
            "Test accuracy for gaussian noise variance 0.0l:0.916\n",
            "Test accuracy for gaussian noise variance 0.l:0.8882\n",
            "Test accuracy for gaussian noise variance l:0.3975\n",
            "Test accuracy for original:0.9205\n"
          ]
        }
      ],
      "source": [
        "augmented_model2 = VGG11().to(device)\n",
        "\n",
        "augment_transform = transforms.Compose([transforms.Pad(2),\n",
        "                               transforms.RandomHorizontalFlip(p=0.5),\n",
        "                               transforms.RandomVerticalFlip(p=0.5),\n",
        "                               transforms.ToTensor(),\n",
        "                               transforms.RandomApply([transforms.Lambda(lambda x : x + np.sqrt(0.1)*torch.randn_like(x))], 0.5),\n",
        "                               ])\n",
        "\n",
        "augumented_dataset = datasets.MNIST(root=\"dataset/\", train=True, transform=augment_transform, download=False)\n",
        "augumented_loader = DataLoader(dataset=augumented_dataset, batch_size=batch_size)\n",
        "\n",
        "adam_optimizer = torch.optim.Adam(augmented_model2.parameters(), lr=learning_rate)\n",
        "\n",
        "all_train_loss, all_train_accuracy, all_test_loss, all_test_accuracy = train_model(4, augumented_loader, test_loader, augmented_model2, adam_optimizer)\n",
        "\n",
        "print(\"Test accuracy for horizontal flip:\"+str(test_accuracy_transform(horizontal_flip, augmented_model2)[1]))\n",
        "print(\"Test accuracy for horizontal and vertical flip:\"+str(test_accuracy_transform(both_flip, augmented_model2)[1]))\n",
        "print(\"Test accuracy for gaussian noise variance 0.0l:\"+str(test_accuracy_transform(noice001, augmented_model2)[1]))\n",
        "print(\"Test accuracy for gaussian noise variance 0.l:\"+str(test_accuracy_transform(noice01, augmented_model2)[1]))\n",
        "print(\"Test accuracy for gaussian noise variance l:\"+str(test_accuracy_transform(noice1, augmented_model2)[1]))\n",
        "print(\"Test accuracy for original:\"+str(test_accuracy_transform(composed, augmented_model2)[1]))"
      ]
    },
    {
      "cell_type": "markdown",
      "metadata": {
        "id": "pSPFFmkn9Hdw"
      },
      "source": [
        "The augmentation that I used is that, I flipped all images vertically with probability 0.5, horizontally with probability 0.5, added gaussian noise variance 0.1 with probaiblity 0.5 .\n",
        "These are the test accuracies are as below.\n"
      ]
    }
  ],
  "metadata": {
    "accelerator": "GPU",
    "colab": {
      "collapsed_sections": [],
      "machine_shape": "hm",
      "name": "Untitled0.ipynb",
      "provenance": [],
      "toc_visible": true
    },
    "gpuClass": "standard",
    "kernelspec": {
      "display_name": "Python 3",
      "name": "python3"
    },
    "language_info": {
      "name": "python"
    }
  },
  "nbformat": 4,
  "nbformat_minor": 0
}
